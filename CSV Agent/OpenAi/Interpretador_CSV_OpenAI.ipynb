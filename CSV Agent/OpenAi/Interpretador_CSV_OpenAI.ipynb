{
 "cells": [
  {
   "cell_type": "code",
   "execution_count": null,
   "id": "11b75e15",
   "metadata": {},
   "outputs": [],
   "source": [
    "import os\n",
    "import pandas as pd\n",
    "from langchain_openai import ChatOpenAI\n",
    "from langchain.prompts import PromptTemplate\n",
    "from langchain_core.output_parsers import StrOutputParser"
   ]
  },
  {
   "cell_type": "code",
   "execution_count": 5,
   "id": "63eb7f19",
   "metadata": {},
   "outputs": [],
   "source": [
    "apiKey = os.environ[\"open_ai_key\"]\n"
   ]
  },
  {
   "cell_type": "code",
   "execution_count": null,
   "id": "c4277b8f",
   "metadata": {},
   "outputs": [
    {
     "name": "stdout",
     "output_type": "stream",
     "text": [
      "Carregado: 202401_NFs_Cabecalho.csv com 100 linhas.\n",
      "Carregado: 202401_NFs_Itens.csv com 565 linhas.\n"
     ]
    }
   ],
   "source": [
    "def load_csvs():\n",
    "    folder_path = \"../202401_NFs\"\n",
    "    dataframes = {}\n",
    "    for filename in os.listdir(folder_path):\n",
    "        if filename.endswith(\".csv\"):\n",
    "            df_name = os.path.splitext(filename)[0]\n",
    "            try:\n",
    "                df = pd.read_csv(os.path.join(folder_path, filename))\n",
    "                dataframes[df_name] = df\n",
    "                print(f\"Carregado: {filename} com {len(df)} linhas.\")\n",
    "            except Exception as e:\n",
    "                print(f\"Erro ao carregar {filename}: {e}\")\n",
    "    return dataframes\n",
    "\n",
    "dataframes = load_csvs()"
   ]
  },
  {
   "cell_type": "code",
   "execution_count": 8,
   "id": "def8c2e9",
   "metadata": {},
   "outputs": [],
   "source": [
    "def generate_context(dataframes):\n",
    "    context = \"\"\n",
    "    for name, df in dataframes.items():\n",
    "        context += f\"Dataset: {name}\\n\"\n",
    "        context += f\"Colunas: {', '.join(df.columns)}\\n\"\n",
    "        context += f\"Total de linhas: {len(df)}\\n\\n\"\n",
    "    return context"
   ]
  },
  {
   "cell_type": "code",
   "execution_count": 9,
   "id": "ee34a497",
   "metadata": {},
   "outputs": [],
   "source": [
    "template = \"\"\"\n",
    "Você é um assistente Python que ajuda a responder perguntas sobre múltiplos datasets carregados como DataFrames Pandas.\n",
    "\n",
    "Aqui está um resumo dos datasets disponíveis:\n",
    "\n",
    "{dataset_context}\n",
    "\n",
    "Pergunta do usuário:\n",
    "{user_question}\n",
    "\"\"\"\n",
    "\n",
    "prompt_template = PromptTemplate.from_template(template)"
   ]
  },
  {
   "cell_type": "code",
   "execution_count": 18,
   "id": "8c7f06c5",
   "metadata": {},
   "outputs": [],
   "source": [
    "def ask_question(user_question):\n",
    "    context = generate_context(dataframes)\n",
    "    dataset_names = \", \".join(dataframes.keys())\n",
    "\n",
    "    return prompt_template.format(\n",
    "        dataset_context=context,\n",
    "        user_question=user_question\n",
    "    )"
   ]
  },
  {
   "cell_type": "code",
   "execution_count": 16,
   "id": "7f9b99e7",
   "metadata": {},
   "outputs": [],
   "source": [
    "llm = ChatOpenAI(model=\"gpt-4o\",api_key=apiKey)"
   ]
  },
  {
   "cell_type": "code",
   "execution_count": 20,
   "id": "4fbb3382",
   "metadata": {},
   "outputs": [
    {
     "name": "stdout",
     "output_type": "stream",
     "text": [
      "Para identificar quais colunas permitem a relação entre os dois datasets, precisamos procurar colunas que estejam presentes em ambos os datasets e que possam ser utilizadas para correlacionar as informações. Com base no resumo fornecido, as seguintes colunas permitem a relação entre os dois datasets:\n",
      "\n",
      "1. **CHAVE DE ACESSO**: Esta é uma coluna que serve como identificador único para as notas fiscais e está presente em ambos os datasets. Ela pode ser usada para associar diretamente as informações de cabeçalho com os itens correspondentes.\n",
      "\n",
      "2. **MODELO**: Embora essa coluna esteja presente em ambos os datasets, ela não é exclusiva para identificar uma relação direta, mas pode ser utilizada como critério adicional.\n",
      "\n",
      "3. **SÉRIE**: Similar ao \"MODELO\", ela está presente em ambos os datasets e pode ajudar como um critério adicional.\n",
      "\n",
      "4. **NÚMERO**: Esse campo, juntamente com o \"MODELO\" e \"SÉRIE\", pode ajudar a identificar um documento fiscal de forma única, especialmente se a \"CHAVE DE ACESSO\" não for suficiente por algum motivo.\n",
      "\n",
      "5. **NATUREZA DA OPERAÇÃO**: Esta coluna pode ser usada para identificar qual é a natureza das operações relacionadas, embora não sirva para a relação direta um-para-um, pode ser útil para análises.\n",
      "\n",
      "Com isso, a coluna mais significativa para criar uma relação direta um-para-um entre os datasets parece ser a **CHAVE DE ACESSO**. Essa coluna é suficiente para associar cada linha no dataset de itens a uma linha correspondente no dataset de cabeçalhos.\n"
     ]
    }
   ],
   "source": [
    "pergunta = ask_question(\"quais colunas permitem relação entre os arquivos?\")\n",
    "\n",
    "response = llm.invoke(pergunta).content\n",
    "\n",
    "print(response)"
   ]
  },
  {
   "cell_type": "code",
   "execution_count": null,
   "id": "6f2dad91",
   "metadata": {},
   "outputs": [],
   "source": []
  }
 ],
 "metadata": {
  "kernelspec": {
   "display_name": "Python 3",
   "language": "python",
   "name": "python3"
  },
  "language_info": {
   "codemirror_mode": {
    "name": "ipython",
    "version": 3
   },
   "file_extension": ".py",
   "mimetype": "text/x-python",
   "name": "python",
   "nbconvert_exporter": "python",
   "pygments_lexer": "ipython3",
   "version": "3.10.5"
  }
 },
 "nbformat": 4,
 "nbformat_minor": 5
}
