{
 "cells": [
  {
   "cell_type": "code",
   "execution_count": 1,
   "id": "a02d70fd",
   "metadata": {},
   "outputs": [],
   "source": [
    "import os\n",
    "import pandas as pd\n",
    "from langchain.prompts import PromptTemplate\n",
    "from huggingface_hub import InferenceClient"
   ]
  },
  {
   "cell_type": "code",
   "execution_count": 2,
   "id": "e54093be",
   "metadata": {},
   "outputs": [
    {
     "name": "stdout",
     "output_type": "stream",
     "text": [
      "CSVs carregados: ['202401_NFs_Cabecalho', '202401_NFs_Itens']\n"
     ]
    }
   ],
   "source": [
    "data_dir = \"../202401_NFs\"\n",
    "dataframes = {}\n",
    "\n",
    "def load_csvs():\n",
    "    global dataframes\n",
    "    dataframes = {}\n",
    "    for filename in os.listdir(data_dir):\n",
    "        if filename.endswith(\".csv\"):\n",
    "            df_name = os.path.splitext(filename)[0]\n",
    "            df_path = os.path.join(data_dir, filename)\n",
    "            dataframes[df_name] = pd.read_csv(df_path)\n",
    "    print(f\"CSVs carregados: {list(dataframes.keys())}\")\n",
    "\n",
    "load_csvs()"
   ]
  },
  {
   "cell_type": "code",
   "execution_count": 3,
   "id": "fd9e5f5c",
   "metadata": {},
   "outputs": [],
   "source": [
    "def generate_context():\n",
    "    context = \"\"\n",
    "    for name, df in dataframes.items():\n",
    "        context += f\"\\nDataset: {name}\\n\"\n",
    "        context += f\"Colunas: {', '.join(df.columns)}\\n\"\n",
    "        context += f\"Total de linhas: {len(df)}\\n\"\n",
    "    return context"
   ]
  },
  {
   "cell_type": "code",
   "execution_count": 11,
   "id": "fb8f9605",
   "metadata": {},
   "outputs": [],
   "source": [
    "template = \"\"\"\n",
    "Você é um assistente Python que ajuda a responder perguntas sobre múltiplos datasets carregados como DataFrames Pandas.\n",
    "\n",
    "Aqui está um resumo dos datasets disponíveis:\n",
    "\n",
    "{dataset_context}\n",
    "\n",
    "Pergunta do usuário:\n",
    "{user_question}\n",
    "\"\"\"\n",
    "\n",
    "prompt_template = PromptTemplate.from_template(template)"
   ]
  },
  {
   "cell_type": "code",
   "execution_count": null,
   "id": "6f0a5428",
   "metadata": {},
   "outputs": [],
   "source": [
    "client = InferenceClient(\n",
    "    provider=\"nebius\",\n",
    "    api_key= os.environ[\"hf_api_key\"],\n",
    ")"
   ]
  },
  {
   "cell_type": "code",
   "execution_count": 13,
   "id": "290c112c",
   "metadata": {},
   "outputs": [],
   "source": [
    "def ask_question(user_question):\n",
    "    context = generate_context()\n",
    "    prompt = prompt_template.format(\n",
    "        dataset_context=context,\n",
    "        user_question=user_question\n",
    "    )\n",
    "\n",
    "    completion = client.chat.completions.create(\n",
    "        model=\"meta-llama/Llama-3.1-8B-Instruct\",\n",
    "        messages=[\n",
    "            {\n",
    "                \"role\": \"user\",\n",
    "                \"content\": prompt\n",
    "            }\n",
    "        ],\n",
    "    )\n",
    "\n",
    "    return completion.choices[0].message.content"
   ]
  },
  {
   "cell_type": "code",
   "execution_count": 15,
   "id": "f8816973",
   "metadata": {},
   "outputs": [
    {
     "name": "stdout",
     "output_type": "stream",
     "text": [
      "Certamente!\n",
      "\n",
      "Aqui está um resumo dos dados nos arquivos CSV:\n",
      "\n",
      "**Dataset: 202401_NFs_Cabecalho**\n",
      "\n",
      "Este dataset contém informações sobre as notas fiscais, que são básicas, como:\n",
      "\n",
      "* Chave de acesso\n",
      "* Modelo\n",
      "* Série\n",
      "* Número\n",
      "* Natureza da operação\n",
      "* Data e emissão\n",
      "* Evento mais recente\n",
      "* Data/hora do evento mais recente\n",
      "* Informações do emitente (CPF/CNPJ, Razão Social, Inscrição Estadual, UF, Município)\n",
      "* Informações do destinatário (CNPJ, Nome, UF, Indicador IE)\n",
      "* Outras informações (Destino da operação, Consumidor final, Presença do comprador)\n",
      "\n",
      "Ele contém 100 linhas.\n",
      "\n",
      "**Dataset: 202401_NFs_Itens**\n",
      "\n",
      "Este dataset contém detalhes sobre os itens das notas fiscais, como:\n",
      "\n",
      "* Chave de acesso\n",
      "* Modelo\n",
      "* Série\n",
      "* Número\n",
      "* Natureza da operação\n",
      "* Data e emissão\n",
      "* Informações do emitente (CPF/CNPJ, Razão Social, Inscrição Estadual, UF, Município)\n",
      "* Informações do destinatário (CNPJ, Nome, UF, Indicador IE)\n",
      "* Informações do item (Número do produto, Descrição do produto/serviço, Código NCM/SH, NCM/SH (Tipo de produto), CFOP, Quantidade, Unidade, Valor unitário, Valor total)\n",
      "\n",
      "Ele contém 565 linhas.\n",
      "\n",
      "Essas informações fornecem um resumo geral dos dados nos arquivos CSV. Se você tiver alguma outra pergunta ou precisar de mais detalhes, não hesite em perguntar!\n"
     ]
    }
   ],
   "source": [
    "answer = ask_question(\"me resuma o conteudo dos arquivos csv\")\n",
    "\n",
    "print(answer)"
   ]
  }
 ],
 "metadata": {
  "kernelspec": {
   "display_name": "Python 3",
   "language": "python",
   "name": "python3"
  },
  "language_info": {
   "codemirror_mode": {
    "name": "ipython",
    "version": 3
   },
   "file_extension": ".py",
   "mimetype": "text/x-python",
   "name": "python",
   "nbconvert_exporter": "python",
   "pygments_lexer": "ipython3",
   "version": "3.10.5"
  }
 },
 "nbformat": 4,
 "nbformat_minor": 5
}
