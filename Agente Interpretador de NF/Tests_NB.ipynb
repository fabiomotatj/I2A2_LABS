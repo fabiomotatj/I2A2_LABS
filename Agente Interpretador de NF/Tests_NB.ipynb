{
 "cells": [
  {
   "cell_type": "code",
   "execution_count": 24,
   "id": "e18b8b2d",
   "metadata": {},
   "outputs": [],
   "source": [
    "import fitz\n",
    "import easyocr\n",
    "from PIL import Image\n",
    "import io\n",
    "import numpy as np"
   ]
  },
  {
   "cell_type": "code",
   "execution_count": 25,
   "id": "052515f8",
   "metadata": {},
   "outputs": [
    {
     "name": "stderr",
     "output_type": "stream",
     "text": [
      "Neither CUDA nor MPS are available - defaulting to CPU. Note: This module is much faster with a GPU.\n"
     ]
    }
   ],
   "source": [
    "\n",
    "reader = easyocr.Reader(['pt'], gpu=True)\n",
    "\n",
    "def extrair_texto_pdf_sem_poppler(caminho_pdf: str) -> str:\n",
    "    texto_total = \"\"\n",
    "\n",
    "    # Abre o PDF\n",
    "    doc = fitz.open(caminho_pdf)\n",
    "\n",
    "    texto_total = \"\"\n",
    "\n",
    "    for pagina in doc:\n",
    "        texto = pagina.get_text()\n",
    "        if texto.strip():\n",
    "            texto_total += texto + \"\\n\"\n",
    "\n",
    "    if texto_total.strip():\n",
    "        return texto_total.strip()\n",
    "\n",
    "    for pagina in doc:\n",
    "        # Renderiza a página em imagem (matriz de pixels)\n",
    "        pix = pagina.get_pixmap(dpi=200)\n",
    "        imagem_bytes = pix.tobytes(\"png\")\n",
    "\n",
    "        # Converte os bytes em imagem PIL\n",
    "        imagem_pil = Image.open(io.BytesIO(imagem_bytes)).convert(\"RGB\")\n",
    "\n",
    "        # Converte PIL para array numpy (formato aceito pelo EasyOCR)\n",
    "        imagem_array = np.array(imagem_pil)\n",
    "\n",
    "        # Usa OCR na imagem\n",
    "        resultado = reader.readtext(imagem_array, detail=0)\n",
    "        texto_total += \"\\n\".join(resultado) + \"\\n\"\n",
    "\n",
    "    doc.close()\n",
    "    return texto_total.strip()\n"
   ]
  },
  {
   "cell_type": "code",
   "execution_count": 26,
   "id": "b39a3889",
   "metadata": {},
   "outputs": [
    {
     "name": "stdout",
     "output_type": "stream",
     "text": [
      "Número da Nota\n",
      "PREFEITURA DA CIDADE DO RIO DE JANEIRO\n",
      "00003018\n",
      "SECRETARIA MUNICIPAL DE FAZENDA\n",
      "Data\n",
      "Hora de Emissão\n",
      "08/07/2025 12:11:58\n",
      "NOTA FISCAL DE SERVIÇOS ELETRÔNICA\n",
      "NFS-e\n",
      "Código de Verificação\n",
      "20250708u23112919000172123112919000172\n",
      "NOTA CARIOCA\n",
      "PJIS-9JTY\n",
      "PRESTADOR DE SERVIÇOS\n",
      "CPFICNPJ:\n",
      "23.112.919/0001-72\n",
      "Inscrição Municipal: 0.653.302-7\n",
      "Inscrição Estadual:\n",
      "NomelRazão Social:\n",
      "AVANTE PSICOLOGIA E DESENVOLVIMENTO PROFISSIONAL LTDA\n",
      "Nome Fantasia:\n",
      "Tel.\n",
      "2133460141\n",
      "Endereço: AVN MERITI 1795, SAL 205\n",
      "VILA DA PENHA\n",
      "CEP: 21211-007\n",
      "Município: RIO DE JANEIRO\n",
      "UF\n",
      "RJ\n",
      "E-mail: legal@conthen.com.br\n",
      "TOMADOR DE SERVIÇOS\n",
      "CPFICNPJ:\n",
      "112.053.917-03\n",
      "Inscrição Municipal:\n",
      "Inscrição Estadual:\n",
      "Nome/Razão Social:\n",
      "FABIO SOUZA DA SILVA MOTA\n",
      "Endereço: RUA CABO HERCULANO 245\n",
      "BRAS DE PINA\n",
      "CEP\n",
      "21211-740\n",
      "Tel.\n",
      "Município: RIO DE JANEIRO\n",
      "UF:RJ\n",
      "E-mail:\n",
      "DISCRIMINAÇÃO DOs SERVIÇOS\n",
      "Consulta\n",
      "emn\n",
      "Psicologia\n",
      "07/07/2025\n",
      "RS\n",
      "150, 00\n",
      "14/07/2025\n",
      "R$\n",
      "150\n",
      "00\n",
      "21/07/2025\n",
      "R$\n",
      "150_\n",
      "00\n",
      "28/07/2025\n",
      "R$\n",
      "150, 00\n",
      "Psicóloga\n",
      "res pons ável\n",
      "Solange\n",
      "Vaz\n",
      "Coelho\n",
      "CRP\n",
      "05/15441\n",
      "VALOR DA NOTA = R$ 600,00\n",
      "[Serviço Prestado\n",
      "04.16.01\n",
      "Psicologia\n",
      "[Deduçães (RS)\n",
      "Desconto Incond. (R$)\n",
      "Base de Cálculo (R$)\n",
      "Alíquota\n",
      "%)\n",
      "Valor do ISS (R$)\n",
      "Crédito p' IPTU (RS)\n",
      "0,00\n",
      "0,00\n",
      "1,20\n",
      "OUTRAS INFORMAÇÕES\n",
      "Esta NFS-e foi emitida com respaldo na Lei nª 5.098 de 15/10/2009\n",
      "e no Decreto nª 32.250 de\n",
      "11/05/2010\n",
      "PROCON-RJ: Av.\n",
      "Rio Branco nª 25, 5ª andar, tel 151: wwwv procon rj gov br\n",
      "ISS devido deve ser recolhido por meio de Documento de Arrecadação do Simples Nacional (DAS):\n",
      "Documento emitido por ME ou EPP optante pelo Simples Nacional.\n",
      "Não gera direito a crédito fiscal de IPI_\n"
     ]
    }
   ],
   "source": [
    "#print(extrair_texto_pdf_sem_poppler(\"NFSe_00003018_06533027 - Fabio.pdf\"))\n",
    "\n",
    "texto_da_nota = extrair_texto_pdf_sem_poppler(\"NFSe_00003018_06533027 - Fabio.pdf\")\n",
    "\n",
    "#print(extrair_texto_pdf_sem_poppler(\"Aposta_250707_125432.pdf\"))\n",
    "\n",
    "print(texto_da_nota)\n"
   ]
  },
  {
   "cell_type": "code",
   "execution_count": 27,
   "id": "285c04db",
   "metadata": {},
   "outputs": [],
   "source": [
    "import os\n",
    "from langchain.prompts import PromptTemplate\n",
    "from langchain_openai import ChatOpenAI\n",
    "\n",
    "apiKey = os.environ[\"open_ai_key\"]\n",
    "\n",
    "def extrair_dados_pdf(path: str) -> str:\n",
    "\n",
    "    template = \"\"\"\n",
    "     Extraia as seguintes informações do texto abaixo e retorne um JSON com as chaves:\n",
    "    'nome do prestador', 'cpf ou CNPJ do prestador', 'data', 'tipo de serviço', 'valor_total', número da nota.\n",
    "\n",
    "    Texto da nota:\n",
    "    \"\"\"\n",
    "\n",
    "    prompt_template = PromptTemplate.from_template(template)\n",
    "\n",
    "    llm = ChatOpenAI(model=\"gpt-4o\",api_key=apiKey)\n",
    "    texto = texto_da_nota\n",
    "    prompt = f\"\"\"\n",
    "    Extraia as seguintes informações do texto abaixo e retorne um JSON com as chaves:\n",
    "    'prestador', 'cnpj', 'data', 'procedimento', 'valor_total'.\n",
    "\n",
    "    Texto da nota:\n",
    "    {texto}\n",
    "    \"\"\"\n",
    "    return llm.predict(prompt)"
   ]
  },
  {
   "cell_type": "code",
   "execution_count": null,
   "id": "9779e1e5",
   "metadata": {},
   "outputs": [
    {
     "name": "stderr",
     "output_type": "stream",
     "text": [
      "C:\\Users\\F_Mota\\AppData\\Local\\Temp\\ipykernel_35460\\3473515090.py:27: LangChainDeprecationWarning: The method `BaseChatModel.predict` was deprecated in langchain-core 0.1.7 and will be removed in 1.0. Use :meth:`~invoke` instead.\n",
      "  return llm.predict(prompt)\n"
     ]
    },
    {
     "name": "stdout",
     "output_type": "stream",
     "text": [
      "```json\n",
      "{\n",
      "    \"prestador\": \"AVANTE PSICOLOGIA E DESENVOLVIMENTO PROFISSIONAL LTDA\",\n",
      "    \"cnpj\": \"23.112.919/0001-72\",\n",
      "    \"data\": \"08/07/2025\",\n",
      "    \"procedimento\": \"Consulta em Psicologia\",\n",
      "    \"valor_total\": \"600,00\"\n",
      "}\n",
      "```\n"
     ]
    }
   ],
   "source": [
    "print(extrair_dados_pdf(\"\"))"
   ]
  }
 ],
 "metadata": {
  "kernelspec": {
   "display_name": "Python 3",
   "language": "python",
   "name": "python3"
  },
  "language_info": {
   "codemirror_mode": {
    "name": "ipython",
    "version": 3
   },
   "file_extension": ".py",
   "mimetype": "text/x-python",
   "name": "python",
   "nbconvert_exporter": "python",
   "pygments_lexer": "ipython3",
   "version": "3.10.5"
  }
 },
 "nbformat": 4,
 "nbformat_minor": 5
}
