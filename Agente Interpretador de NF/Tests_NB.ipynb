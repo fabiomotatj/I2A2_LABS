{
 "cells": [
  {
   "cell_type": "code",
   "execution_count": 2,
   "id": "e18b8b2d",
   "metadata": {},
   "outputs": [],
   "source": [
    "import fitz\n",
    "import easyocr\n",
    "from PIL import Image\n",
    "import io\n",
    "import numpy as np"
   ]
  },
  {
   "cell_type": "code",
   "execution_count": 3,
   "id": "052515f8",
   "metadata": {},
   "outputs": [
    {
     "name": "stderr",
     "output_type": "stream",
     "text": [
      "Neither CUDA nor MPS are available - defaulting to CPU. Note: This module is much faster with a GPU.\n"
     ]
    }
   ],
   "source": [
    "\n",
    "reader = easyocr.Reader(['pt'], gpu=True)\n",
    "\n",
    "def extrair_texto_pdf(caminho_pdf: str) -> str:\n",
    "    texto_total = \"\"\n",
    "\n",
    "    # Abre o PDF\n",
    "    doc = fitz.open(caminho_pdf)\n",
    "\n",
    "    for pagina in doc:\n",
    "        texto = pagina.get_text()\n",
    "        if texto.strip():\n",
    "            texto_total += texto + \"\\n\"\n",
    "\n",
    "    if texto_total.strip():\n",
    "        return texto_total.strip()\n",
    "\n",
    "    for pagina in doc:\n",
    "        # Renderiza a página em imagem (matriz de pixels)\n",
    "        pix = pagina.get_pixmap(dpi=200)\n",
    "        imagem_bytes = pix.tobytes(\"png\")\n",
    "\n",
    "        # Converte os bytes em imagem PIL\n",
    "        imagem_pil = Image.open(io.BytesIO(imagem_bytes)).convert(\"RGB\")\n",
    "\n",
    "        # Converte PIL para array numpy (formato aceito pelo EasyOCR)\n",
    "        imagem_array = np.array(imagem_pil)\n",
    "\n",
    "        # Usa OCR na imagem\n",
    "        resultado = reader.readtext(imagem_array, detail=0)\n",
    "        texto_total += \"\\n\".join(resultado) + \"\\n\"\n",
    "\n",
    "    doc.close()\n",
    "    return texto_total.strip()\n"
   ]
  },
  {
   "cell_type": "code",
   "execution_count": 4,
   "id": "285c04db",
   "metadata": {},
   "outputs": [],
   "source": [
    "import os\n",
    "from langchain.prompts import PromptTemplate\n",
    "from langchain_openai import ChatOpenAI\n",
    "from langchain.prompts import ChatPromptTemplate\n",
    "\n",
    "apiKey = os.environ[\"open_ai_key\"]\n",
    "\n",
    "llm = ChatOpenAI(model=\"gpt-4o\",api_key=apiKey)\n",
    "\n",
    "def extrair_dados(texto_da_nota: str) -> str:\n",
    "\n",
    "    prompt = f\"\"\"\n",
    "    Extraia as seguintes informações do texto abaixo e retorne um JSON com as chaves:\n",
    "    'prestador', 'cnpj', 'data', 'procedimento', 'valor_total', numero_nota, conselho, tipo_conselho.\n",
    "\n",
    "    Texto da nota:\n",
    "    {texto_da_nota}\n",
    "    \"\"\"\n",
    "    # Criar o prompt template\n",
    "    prompt_template = ChatPromptTemplate.from_template(prompt)\n",
    "\n",
    "    # Preencher o template com o texto real da nota\n",
    "    messages = prompt_template.format_messages(texto=texto_da_nota)\n",
    "\n",
    "    # Chamar o modelo\n",
    "    return llm(messages)"
   ]
  },
  {
   "cell_type": "code",
   "execution_count": 5,
   "id": "9779e1e5",
   "metadata": {},
   "outputs": [
    {
     "name": "stderr",
     "output_type": "stream",
     "text": [
      "C:\\Users\\F_Mota\\AppData\\Local\\Temp\\ipykernel_43400\\2644713927.py:26: LangChainDeprecationWarning: The method `BaseChatModel.__call__` was deprecated in langchain-core 0.1.7 and will be removed in 1.0. Use :meth:`~invoke` instead.\n",
      "  return llm(messages)\n"
     ]
    },
    {
     "name": "stdout",
     "output_type": "stream",
     "text": [
      "content='```json\\n{\\n    \"prestador\": \"Dr. João Silva\",\\n    \"cnpj\": \"12.345.678/0001-90\",\\n    \"data\": \"10/07/2025\",\\n    \"procedimento\": \"Consulta\",\\n    \"valor_total\": \"R$350,00\",\\n    \"numero_nota\": \"20250710001\",\\n    \"conselho\": \"123456-SP\",\\n    \"tipo_conselho\": \"CRM\"\\n}\\n```' additional_kwargs={'refusal': None} response_metadata={'token_usage': {'completion_tokens': 99, 'prompt_tokens': 130, 'total_tokens': 229, 'completion_tokens_details': {'accepted_prediction_tokens': 0, 'audio_tokens': 0, 'reasoning_tokens': 0, 'rejected_prediction_tokens': 0}, 'prompt_tokens_details': {'audio_tokens': 0, 'cached_tokens': 0}}, 'model_name': 'gpt-4o-2024-08-06', 'system_fingerprint': 'fp_07871e2ad8', 'id': 'chatcmpl-BxJLaa9lHQDH2v1dQFwvCZGx2zLRk', 'service_tier': 'default', 'finish_reason': 'stop', 'logprobs': None} id='run--858b5880-50b5-49d9-ac72-f9258f654132-0' usage_metadata={'input_tokens': 130, 'output_tokens': 99, 'total_tokens': 229, 'input_token_details': {'audio': 0, 'cache_read': 0}, 'output_token_details': {'audio': 0, 'reasoning': 0}}\n"
     ]
    }
   ],
   "source": [
    "#texto_extraido = extrair_texto_pdf(\"NFSe_00003018_06533027 - Fabio.pdf\")\n",
    "\n",
    "#texto_extraido = extrair_texto_pdf(\"NFSe_00004270_11467997.pdf\")\n",
    "\n",
    "#print(extrair_texto_pdf_sem_poppler(\"Aposta_250707_125432.pdf\"))\n",
    "\n",
    "\n",
    "resultado = extrair_dados(\"Nota fiscal referente ao atendimento médico realizado por Dr. João Silva, CRM 123456-SP, CNPJ 12.345.678/0001-90, em 10/07/2025. Procedimento: Consulta. Valor: R$350,00. Número da nota: 20250710001.\")\n",
    "\n",
    "print(resultado)\n"
   ]
  },
  {
   "cell_type": "code",
   "execution_count": 6,
   "id": "f00063ca",
   "metadata": {},
   "outputs": [
    {
     "name": "stdout",
     "output_type": "stream",
     "text": [
      "```json\n",
      "{\n",
      "    \"prestador\": \"Dr. João Silva\",\n",
      "    \"cnpj\": \"12.345.678/0001-90\",\n",
      "    \"data\": \"10/07/2025\",\n",
      "    \"procedimento\": \"Consulta\",\n",
      "    \"valor_total\": \"R$350,00\",\n",
      "    \"numero_nota\": \"20250710001\",\n",
      "    \"conselho\": \"123456-SP\",\n",
      "    \"tipo_conselho\": \"CRM\"\n",
      "}\n",
      "```\n"
     ]
    }
   ],
   "source": [
    "print(resultado.content)"
   ]
  },
  {
   "cell_type": "code",
   "execution_count": 7,
   "id": "9c6574ff",
   "metadata": {},
   "outputs": [],
   "source": [
    "import xml.etree.ElementTree as ET\n",
    "\n",
    "def xml_para_texto(xml_path: str) -> str:\n",
    "    tree = ET.parse(xml_path)\n",
    "    root = tree.getroot()\n",
    "\n",
    "    def percorrer(elem, prefix=''):\n",
    "        linhas = []\n",
    "        for child in elem:\n",
    "            tag = child.tag.split('}')[-1]\n",
    "            valor = child.text.strip() if child.text else ''\n",
    "            if list(child):\n",
    "                linhas += percorrer(child, prefix + tag + \".\")\n",
    "            elif valor:\n",
    "                linhas.append(f\"{prefix}{tag}: {valor}\")\n",
    "        return linhas\n",
    "\n",
    "    return \"\\n\".join(percorrer(root))"
   ]
  },
  {
   "cell_type": "code",
   "execution_count": 10,
   "id": "d04caf0b",
   "metadata": {},
   "outputs": [
    {
     "name": "stdout",
     "output_type": "stream",
     "text": [
      "```json\n",
      "{\n",
      "    \"prestador\": \"Clínica Médica Exemplo\",\n",
      "    \"cnpj\": \"12345678000100\",\n",
      "    \"data\": \"2025-07-22T09:00:00-03:00\",\n",
      "    \"procedimento\": \"Consulta Médica\",\n",
      "    \"valor_total\": \"300.00\",\n",
      "    \"numero_nota\": \"1234\",\n",
      "    \"conselho\": \"004533\",\n",
      "    \"tipo_conselho\": \"CRM\"\n",
      "}\n",
      "```\n"
     ]
    }
   ],
   "source": [
    "texto_extraido = xml_para_texto(\"NFE_XML.xml\")\n",
    "\n",
    "resultado = extrair_dados(texto_extraido)\n",
    "\n",
    "print(resultado.content)"
   ]
  },
  {
   "cell_type": "code",
   "execution_count": 6,
   "id": "47049322",
   "metadata": {},
   "outputs": [
    {
     "name": "stdout",
     "output_type": "stream",
     "text": [
      "{'prestador': 'Clínica Médica Exemplo', 'cnpj': '12345678000100'}\n"
     ]
    }
   ],
   "source": [
    "import re\n",
    "import json\n",
    "\n",
    "def limpar_json_resposta(resposta_llm: str):\n",
    "    # Remove marcações como ```json e ```\n",
    "    texto_limpo = re.sub(r\"```(?:json)?\\n?|```\", \"\", resposta_llm).strip()\n",
    "    \n",
    "    try:\n",
    "        # Primeira tentativa de parsing\n",
    "        dados = json.loads(texto_limpo)\n",
    "    except json.JSONDecodeError:\n",
    "        # Se ainda for uma string JSON escapada, faz o parsing novamente\n",
    "        dados = json.loads(json.loads(texto_limpo))\n",
    "    \n",
    "    return dados\n",
    "\n",
    "# Exemplo de resposta (com barra invertida e \\n)\n",
    "resposta_llm = '{\\n \\\"prestador\\\": \\\"Clínica Médica Exemplo\\\",\\n  \\\"cnpj\\\": \\\"12345678000100\\\"}'\n",
    "\n",
    "resultado = limpar_json_resposta(resposta_llm)\n",
    "print(resultado)"
   ]
  }
 ],
 "metadata": {
  "kernelspec": {
   "display_name": "Python 3",
   "language": "python",
   "name": "python3"
  },
  "language_info": {
   "codemirror_mode": {
    "name": "ipython",
    "version": 3
   },
   "file_extension": ".py",
   "mimetype": "text/x-python",
   "name": "python",
   "nbconvert_exporter": "python",
   "pygments_lexer": "ipython3",
   "version": "3.10.5"
  }
 },
 "nbformat": 4,
 "nbformat_minor": 5
}
